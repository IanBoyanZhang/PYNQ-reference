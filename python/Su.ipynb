{
 "cells": [
  {
   "cell_type": "code",
   "execution_count": 1,
   "metadata": {
    "collapsed": true
   },
   "outputs": [],
   "source": [
    "##This reference design will help you walk through the rules of the contest.\n",
    "##Any change in DACSDC.py will make your design fail in evaluation. \n",
    "##Only \"resize\" is allowed in PS side. If any inference is executed in PS, it would be regarded as fail.\n",
    "##Time for a batch processing should start from 'PS reading images' and end after 'PS receving all results'. Please check the reference for details.\n",
    "##Batch size is 500 by defalut.\n",
    "##Please all \"DACSDC.write\" to write your time performance.\n",
    "##Please all \"storeResultsToXML.write\" to write your time performance.\n",
    "##It is your choice how to record the inferenced result. However, it must be readable, and you must convert it to XML files. An example is provided.\n",
    "##Please pack your code into teamname.py. Your design should be able to process all evaluation images with one click.\n",
    "##xinyizhang@pitt.edu, University of Pittsburgh\n",
    "    "
   ]
  },
  {
   "cell_type": "code",
   "execution_count": 5,
   "metadata": {
    "collapsed": true
   },
   "outputs": [],
   "source": [
    "###start initializing###\n",
    "import sys\n",
    "import numpy as np \n",
    "import os\n",
    "import time\n",
    "from PIL import Image\n",
    "import matplotlib.pylab as plt\n",
    "import cv2\n",
    "from datetime import datetime\n",
    "from pynq import Xlnk\n",
    "from pynq import Overlay\n",
    "import DACSDC\n",
    "##Please enter you team name here; set the sleep time for function send, it is 0 by default\n",
    "teamname = 'Su'\n",
    "interval_time= 0\n",
    "batchsize = 500\n",
    "##create default work dir\n",
    "[DAC,imgdir,overlaydir,result,timedir,coordir,xmlpath,mycoord,myxml]=DACSDC.startup(teamname)\n",
    "##mycoord: please keep your raw data here.\n",
    "##myxml:  please keep your xml files here.\n",
    "\n",
    "###end initializing###\n"
   ]
  },
  {
   "cell_type": "code",
   "execution_count": 6,
   "metadata": {
    "collapsed": true
   },
   "outputs": [],
   "source": [
    "DACSDC.reset()\n",
    "totalimg = len(DACSDC.getnames())\n",
    "sendlist = DACSDC.getpathbatch()\n"
   ]
  },
  {
   "cell_type": "code",
   "execution_count": 7,
   "metadata": {
    "scrolled": true
   },
   "outputs": [
    {
     "name": "stdout",
     "output_type": "stream",
     "text": [
      "0.056610822677612305\n",
      "0.03330087661743164\n"
     ]
    }
   ],
   "source": [
    "##this is not a real design for image dectection, this is not a real design for image dectection   \n",
    "##start your design\n",
    "overlay = Overlay('/home/xilinx/jupyter_notebooks/DAC/overlay/Su.bit')\n",
    "dma = overlay.axi_dma_0\n",
    "f = []\n",
    "xlnk = Xlnk()\n",
    "in_buffer = xlnk.cma_array(shape=(4,), dtype=np.uint32)\n",
    "out_buffer = xlnk.cma_array(shape=(4,), dtype=np.uint32)\n",
    "tbatch = 0   ##total time for batch processing\n",
    "\n",
    "##Data from PS->PL->PS by DMA. Using \"Interrupt\" is suggested by Xilinx engineers. \n",
    "##More details can be found in the reference BD files.\n",
    "def push (indata):\n",
    "    for k in range (4):\n",
    "        in_buffer[k] = indata[k]\n",
    "    dma.sendchannel.transfer(in_buffer)\n",
    "    dma.recvchannel.transfer(out_buffer) \n",
    "    dma.sendchannel.wait()\n",
    "    dma.recvchannel.wait()\n",
    "    return out_buffer\n",
    "\n",
    "##You must iterate all batches. Here, t1 just grabs 4 integers from a batch and then loops them back.\n",
    "##It is your turn how to record the output raw data. You can put batches results in separate files or a single file. \n",
    "##You should measure the time for processing all images.\n",
    "##Timers should start from 'PS reading images' and end after 'PS receving results'\n",
    "def t1(): \n",
    "    for i in range (int(totalimg/batchsize)):\n",
    "        global tbatch\n",
    "        \n",
    "        start = time.time()\n",
    "        #start timer for a batch\n",
    "#         print (\"this is t1's number %s batch\"%(i))\n",
    "        \n",
    "        a  = DACSDC.send(interval_time, sendlist)\n",
    "        d= a[0]\n",
    "        d = cv2.imread(d)\n",
    "        b,g,r = cv2.split(d)\n",
    "        e = b [0]\n",
    "        push (e)\n",
    "        \n",
    "        end = time.time()\n",
    "        t= end -start\n",
    "        #end timer for the batch\n",
    "        \n",
    "        print (t)\n",
    "        tbatch = tbatch + t \n",
    "#         print (tbatch)\n",
    "        \n",
    "        out = str (out_buffer)\n",
    "#         print (out)\n",
    "        f.append(out)\n",
    "    return\n",
    "\n",
    "\n",
    "t1()\n",
    "DACSDC.write(tbatch, totalimg,teamname)\n",
    "##Please call \"DACSDC.write\" to record your time performance. \n",
    "##Please write your coordinates to \"'DAC/result/coordinate/teamname/...'\"\n",
    "##Please put all your intermediate result here. It is your choice how to store them.\n",
    "fcoord = open(mycoord + '/' + 'teamname.txt', 'w+')\n",
    "for element in f: \n",
    "    fcoord.write(element)  \n",
    "    fcoord.write('\\n')  \n",
    "fcoord.close()\n",
    "    \n",
    "xlnk = Xlnk()\n",
    "xlnk.xlnk_reset()\n",
    "\n"
   ]
  },
  {
   "cell_type": "code",
   "execution_count": 8,
   "metadata": {
    "collapsed": true
   },
   "outputs": [],
   "source": [
    "##An example showing how to write coordinates to XML\n",
    "# import xml.dom.minidom\n",
    "\n",
    "resultRectangle =  [[1,2,3,4],[1,2,3,4]] ;\n",
    "allImageName   = ['DAC','SDC'];\n",
    "\n",
    "DACSDC.storeResultsToXML(resultRectangle, allImageName, myxml)"
   ]
  },
  {
   "cell_type": "code",
   "execution_count": null,
   "metadata": {
    "collapsed": true
   },
   "outputs": [],
   "source": []
  }
 ],
 "metadata": {
  "kernelspec": {
   "display_name": "Python 3",
   "language": "python",
   "name": "python3"
  },
  "language_info": {
   "codemirror_mode": {
    "name": "ipython",
    "version": 3
   },
   "file_extension": ".py",
   "mimetype": "text/x-python",
   "name": "python",
   "nbconvert_exporter": "python",
   "pygments_lexer": "ipython3",
   "version": "3.6.0"
  }
 },
 "nbformat": 4,
 "nbformat_minor": 2
}
